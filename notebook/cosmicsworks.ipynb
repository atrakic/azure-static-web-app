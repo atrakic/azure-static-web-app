{
 "cells": [
  {
   "cell_type": "markdown",
   "id": "70d97dff",
   "metadata": {},
   "source": [
    "# Getting started\n",
    "\n",
    "- Create required Azure resources."
   ]
  },
  {
   "cell_type": "code",
   "execution_count": null,
   "id": "dcbed969",
   "metadata": {
    "tags": [
     "shell"
    ],
    "vscode": {
     "languageId": "shellscript"
    }
   },
   "outputs": [],
   "source": [
    "%%bash\n",
    "\n",
    "set -e\n",
    "\n",
    "# Set your resource group and Cosmos DB account name\n",
    "RESGROUP=\"\"\n",
    "ACCTNAME=\"\"\n",
    "\n",
    "az cosmosdb create --resource-group \"$RESGROUP\" --name \"$ACCTNAME\"\n",
    "\n",
    "export ACCOUNT_URI=$(az cosmosdb show --resource-group \"$RESGROUP\" --name \"$ACCTNAME\" --query documentEndpoint --output tsv)\n",
    "export ACCOUNT_KEY=$(az cosmosdb list-keys --resource-group \"$RESGROUP\" --name \"$ACCTNAME\" --query primaryMasterKey --output tsv)"
   ]
  },
  {
   "cell_type": "code",
   "execution_count": null,
   "id": "f8279e72",
   "metadata": {
    "vscode": {
     "languageId": "plaintext"
    }
   },
   "outputs": [],
   "source": [
    "# Set configuration settings\n",
    "import os\n",
    "URL = os.environ['ACCOUNT_URI']\n",
    "KEY = os.environ['ACCOUNT_KEY']\n",
    "\n",
    "config = {\n",
    "  \"spark.cosmos.accountEndpoint\": URL,\n",
    "  \"spark.cosmos.accountKey\": KEY,\n",
    "  \"spark.cosmos.database\": \"cosmicworks\",\n",
    "  \"spark.cosmos.container\": \"products\"\n",
    "}"
   ]
  },
  {
   "cell_type": "code",
   "execution_count": null,
   "id": "ca7e6b1b",
   "metadata": {
    "vscode": {
     "languageId": "plaintext"
    }
   },
   "outputs": [],
   "source": [
    "# Configure the Catalog API\n",
    "spark.conf.set(\"spark.sql.catalog.cosmosCatalog\", \"com.azure.cosmos.spark.CosmosCatalog\")\n",
    "spark.conf.set(\"spark.sql.catalog.cosmosCatalog.spark.cosmos.accountEndpoint\", config[\"spark.cosmos.accountEndpoint\"])\n",
    "spark.conf.set(\"spark.sql.catalog.cosmosCatalog.spark.cosmos.accountKey\", config[\"spark.cosmos.accountKey\"])"
   ]
  },
  {
   "cell_type": "code",
   "execution_count": null,
   "id": "74fbb6c3",
   "metadata": {
    "vscode": {
     "languageId": "plaintext"
    }
   },
   "outputs": [],
   "source": [
    "# Create a new database and container\n",
    "spark.sql(f\"CREATE DATABASE IF NOT EXISTS cosmosCatalog.cosmicworks;\")\n",
    "\n",
    "# Create a products container by using the Catalog API\n",
    "spark.sql((\"CREATE TABLE IF NOT EXISTS cosmosCatalog.cosmicworks.products USING cosmos.oltp TBLPROPERTIES(partitionKeyPath = '/category', autoScaleMaxThroughput = '1000')\"))\n",
    "spark.sql((\"CREATE TABLE IF NOT EXISTS cosmosCatalog.cosmicworks.employees USING cosmos.oltp TBLPROPERTIES(partitionKeyPath = '/organization,/department,/team', manualThroughput = '400')\"))"
   ]
  },
  {
   "cell_type": "markdown",
   "id": "2a774c37",
   "metadata": {},
   "source": [
    "## Ingest sample data"
   ]
  },
  {
   "cell_type": "code",
   "execution_count": null,
   "id": "f56b5133",
   "metadata": {
    "vscode": {
     "languageId": "plaintext"
    }
   },
   "outputs": [],
   "source": [
    "products = (\n",
    "  (\"68719518391\", \"gear-surf-surfboards\", \"Yamba Surfboard\", 12, 850.00, False),\n",
    "  (\"68719518371\", \"gear-surf-surfboards\", \"Kiama Classic Surfboard\", 25, 790.00, True)\n",
    ")\n",
    "\n",
    "spark.createDataFrame(products) \\\n",
    "  .toDF(\"id\", \"category\", \"name\", \"quantity\", \"price\", \"clearance\") \\\n",
    "  .write \\\n",
    "  .format(\"cosmos.oltp\") \\\n",
    "  .options(**config) \\\n",
    "  .mode(\"APPEND\") \\\n",
    "  .save()"
   ]
  },
  {
   "cell_type": "markdown",
   "id": "be94022b",
   "metadata": {},
   "source": [
    "# Query data"
   ]
  },
  {
   "cell_type": "code",
   "execution_count": null,
   "id": "f128324d",
   "metadata": {
    "vscode": {
     "languageId": "plaintext"
    }
   },
   "outputs": [],
   "source": [
    "df = spark.read.format(\"cosmos.oltp\") \\\n",
    "  .options(**config) \\\n",
    "  .option(\"spark.cosmos.read.inferSchema.enabled\", \"true\") \\\n",
    "  .load()\n",
    "\n",
    "# Render schema\n",
    "df.printSchema()\n",
    "\n",
    "# Render filtered data    \n",
    "df.where(\"quantity < 20\") \\\n",
    "  .show()\n",
    "df.filter(df.clearance == True) \\\n",
    "  .show(1)\n",
    "\n",
    "# Render five rows of unfiltered and untruncated data    \n",
    "df.show(5, False)\n",
    "\n",
    "# Render results of raw query    \n",
    "rawQuery = \"SELECT * FROM cosmosCatalog.cosmicworks.products WHERE price > 800\"\n",
    "rawDf = spark.sql(rawQuery)\n",
    "rawDf.show()"
   ]
  }
 ],
 "metadata": {
  "language_info": {
   "name": "python"
  }
 },
 "nbformat": 4,
 "nbformat_minor": 5
}
